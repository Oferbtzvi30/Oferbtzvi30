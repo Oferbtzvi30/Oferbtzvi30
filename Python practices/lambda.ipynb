{
 "cells": [
  {
   "cell_type": "code",
   "execution_count": 1,
   "id": "initial_id",
   "metadata": {
    "collapsed": true,
    "ExecuteTime": {
     "end_time": "2024-02-16T15:48:13.715756Z",
     "start_time": "2024-02-16T15:48:13.415314Z"
    }
   },
   "outputs": [],
   "source": [
    "import pandas as pd "
   ]
  },
  {
   "cell_type": "code",
   "outputs": [
    {
     "name": "stdout",
     "output_type": "stream",
     "text": [
      "25\n",
      "False\n",
      "3\n",
      "Hello\n",
      "[1, 3, 5, 7, 9]\n",
      "[2, 4, 6, 8, 10, 12, 14, 16, 18, 20]\n",
      "3628800\n"
     ]
    }
   ],
   "source": [
    "# data_analysis_lambda_exercises.py\n",
    "\n",
    "# Exercise 1: Create a simple lambda function that squares a given number.\n",
    "square = lambda x: x ** 2\n",
    "print(square(5))  # Output: 25\n",
    "\n",
    "# Exercise 2: Create a lambda function to check if a number is even.\n",
    "is_even = lambda x: x % 2 == 0\n",
    "print(is_even(7))  # Output: False\n",
    "\n",
    "# Exercise 3: Use a lambda function to find the minimum of two numbers.\n",
    "min_value = lambda x, y: x if x < y else y\n",
    "print(min_value(3, 8))  # Output: 3\n",
    "\n",
    "# Exercise 4: Create a lambda function to capitalize the first letter of a string.\n",
    "capitalize_first = lambda s: s.capitalize()\n",
    "print(capitalize_first(\"hello\"))  # Output: Hello\n",
    "\n",
    "# Exercise 5: Use a lambda function to filter out even numbers from a list.\n",
    "numbers = [1, 2, 3, 4, 5, 6, 7, 8, 9, 10]\n",
    "filtered_numbers = list(filter(lambda x: x % 2 != 0, numbers))\n",
    "print(filtered_numbers)  # Output: [1, 3, 5, 7, 9]\n",
    "\n",
    "# Exercise 6: Use a lambda function to double each element in a list using map.\n",
    "doubled_numbers = list(map(lambda x: x * 2, numbers))\n",
    "print(doubled_numbers)  # Output: [2, 4, 6, 8, 10, 12, 14, 16, 18, 20]\n",
    "\n",
    "# Exercise 7: Use a lambda function with reduce to find the product of all elements in a list.\n",
    "from functools import reduce\n",
    "product = reduce(lambda x, y: x * y, numbers)\n",
    "print(product)  # Output: 3628800\n"
   ],
   "metadata": {
    "collapsed": false,
    "ExecuteTime": {
     "end_time": "2024-02-16T15:48:27.822294Z",
     "start_time": "2024-02-16T15:48:27.812571Z"
    }
   },
   "id": "6401443b8b4e05bf",
   "execution_count": 2
  },
  {
   "cell_type": "code",
   "outputs": [
    {
     "name": "stdout",
     "output_type": "stream",
     "text": [
      "Total Revenue: 2900000\n",
      "Businesses with Expenses > 500,000: 1\n",
      "Net Profits for Each Business: [200000, 200000, 100000, 300000, 250000]\n",
      "Business with Highest Net Profit: {'id': 4, 'name': '456 Co', 'revenue': 700000, 'expenses': 400000}\n",
      "Average Revenue for Businesses with Expenses < 400,000: 466666.6666666667\n",
      "Businesses with Net Profit Margin > 30%: [{'id': 1, 'name': 'ABC Corp', 'revenue': 500000, 'expenses': 300000}, {'id': 3, 'name': '123 Ltd', 'revenue': 300000, 'expenses': 200000}, {'id': 4, 'name': '456 Co', 'revenue': 700000, 'expenses': 400000}, {'id': 5, 'name': '789 LLC', 'revenue': 600000, 'expenses': 350000}]\n"
     ]
    }
   ],
   "source": [
    "# business_data_set.py\n",
    "\n",
    "# Sample business dataset\n",
    "business_data = [\n",
    "    {\"id\": 1, \"name\": \"ABC Corp\", \"revenue\": 500000, \"expenses\": 300000},\n",
    "    {\"id\": 2, \"name\": \"XYZ Inc\", \"revenue\": 800000, \"expenses\": 600000},\n",
    "    {\"id\": 3, \"name\": \"123 Ltd\", \"revenue\": 300000, \"expenses\": 200000},\n",
    "    {\"id\": 4, \"name\": \"456 Co\", \"revenue\": 700000, \"expenses\": 400000},\n",
    "    {\"id\": 5, \"name\": \"789 LLC\", \"revenue\": 600000, \"expenses\": 350000},\n",
    "]\n",
    "\n",
    "# Questions:\n",
    "\n",
    "# Easy Level:\n",
    "\n",
    "# 1. What is the total revenue of all businesses?\n",
    "total_revenue = lambda data: sum(record[\"revenue\"] for record in data)\n",
    "print(\"Total Revenue:\", total_revenue(business_data))\n",
    "\n",
    "# 2. How many businesses have expenses greater than 500,000?\n",
    "high_expenses_count = lambda data: len(list(filter(lambda x: x[\"expenses\"] > 500000, data)))\n",
    "print(\"Businesses with Expenses > 500,000:\", high_expenses_count(business_data))\n",
    "\n",
    "# Intermediate Level:\n",
    "\n",
    "# 3. Calculate the net profit for each business (revenue - expenses).\n",
    "net_profit = lambda record: record[\"revenue\"] - record[\"expenses\"]\n",
    "profit_list = list(map(net_profit, business_data))\n",
    "print(\"Net Profits for Each Business:\", profit_list)\n",
    "\n",
    "# 4. Find the business with the highest net profit.\n",
    "max_profit_business = lambda data: max(data, key=lambda x: x[\"revenue\"] - x[\"expenses\"])\n",
    "print(\"Business with Highest Net Profit:\", max_profit_business(business_data))\n",
    "\n",
    "# Advanced Level:\n",
    "\n",
    "# 5. Calculate the average revenue for businesses with expenses less than 400,000.\n",
    "filtered_data = list(filter(lambda x: x[\"expenses\"] < 400000, business_data))\n",
    "average_revenue_low_expenses = (\n",
    "    lambda data: sum(record[\"revenue\"] for record in data) / len(data)\n",
    ")\n",
    "print(\"Average Revenue for Businesses with Expenses < 400,000:\", average_revenue_low_expenses(filtered_data))\n",
    "\n",
    "# 6. Identify businesses with a net profit margin greater than 30% (net profit / revenue).\n",
    "profit_margin_exceeds_30_percent = (\n",
    "    lambda record: (record[\"revenue\"] - record[\"expenses\"]) / record[\"revenue\"] > 0.3\n",
    ")\n",
    "high_profit_margin_businesses = list(filter(profit_margin_exceeds_30_percent, business_data))\n",
    "print(\"Businesses with Net Profit Margin > 30%:\", high_profit_margin_businesses)"
   ],
   "metadata": {
    "collapsed": false,
    "ExecuteTime": {
     "end_time": "2024-02-16T15:48:50.761816Z",
     "start_time": "2024-02-16T15:48:50.758450Z"
    }
   },
   "id": "2c4eb1339d8a6598",
   "execution_count": 3
  },
  {
   "cell_type": "code",
   "outputs": [],
   "source": [],
   "metadata": {
    "collapsed": false
   },
   "id": "3f9410c1e7ff8f31"
  }
 ],
 "metadata": {
  "kernelspec": {
   "display_name": "Python 3",
   "language": "python",
   "name": "python3"
  },
  "language_info": {
   "codemirror_mode": {
    "name": "ipython",
    "version": 2
   },
   "file_extension": ".py",
   "mimetype": "text/x-python",
   "name": "python",
   "nbconvert_exporter": "python",
   "pygments_lexer": "ipython2",
   "version": "2.7.6"
  }
 },
 "nbformat": 4,
 "nbformat_minor": 5
}
