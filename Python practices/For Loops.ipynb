{
 "cells": [
  {
   "cell_type": "code",
   "execution_count": 1,
   "id": "initial_id",
   "metadata": {
    "collapsed": true,
    "ExecuteTime": {
     "end_time": "2024-02-13T07:32:47.147604Z",
     "start_time": "2024-02-13T07:32:46.887604Z"
    }
   },
   "outputs": [],
   "source": [
    "import pandas as pd"
   ]
  },
  {
   "cell_type": "code",
   "outputs": [
    {
     "name": "stdout",
     "output_type": "stream",
     "text": [
      "There are 2 apples.\n",
      "There are 3 bananas.\n",
      "There are 4 oranges.\n",
      "The circle has the following colors:\n",
      " - red\n",
      " - blue\n",
      "The square has the following colors:\n",
      " - green\n",
      " - yellow\n",
      "1 is an odd number.\n",
      "2 is an even number.\n",
      "3 is an odd number.\n",
      "4 is an even number.\n",
      "5 is an odd number.\n",
      "6 is an even number.\n",
      "[1, 4, 9, 16, 25]\n",
      "Color at index 0 is red.\n",
      "Color at index 1 is green.\n",
      "Color at index 2 is blue.\n",
      "There are 2 apples.\n",
      "There are 3 bananas.\n",
      "There are 4 oranges.\n",
      "0\n",
      "1\n",
      "3\n"
     ]
    }
   ],
   "source": [
    "# Level 1: Basic For Loop\n",
    "# Question: What will be the output of the code above?\n",
    "fruits = {'apple': 2, 'banana': 3, 'orange': 4}\n",
    "for fruit, quantity in fruits.items():\n",
    "    print(f\"There are {quantity} {fruit}s.\")\n",
    "\n",
    "# Level 2: Nested For Loop\n",
    "# Question: What will be the output of the code above?\n",
    "shapes = {'circle': ['red', 'blue'], 'square': ['green', 'yellow']}\n",
    "for shape, colors in shapes.items():\n",
    "    print(f\"The {shape} has the following colors:\")\n",
    "    for color in colors:\n",
    "        print(f\" - {color}\")\n",
    "\n",
    "# Level 3: Filtering with a Condition\n",
    "# Question: What will be the output of the code above?\n",
    "numbers = [1, 2, 3, 4, 5, 6]\n",
    "for num in numbers:\n",
    "    if num % 2 == 0:\n",
    "        print(f\"{num} is an even number.\")\n",
    "    else:\n",
    "        print(f\"{num} is an odd number.\")\n",
    "\n",
    "# Level 4: List Comprehension\n",
    "# Question: What will be the value of `squared_numbers`?\n",
    "numbers = [1, 2, 3, 4, 5]\n",
    "squared_numbers = [num ** 2 for num in numbers]\n",
    "print(squared_numbers)\n",
    "\n",
    "# Level 5: Enumerate\n",
    "# Question: What will be the output of the code above?\n",
    "colors = ['red', 'green', 'blue']\n",
    "for index, color in enumerate(colors):\n",
    "    print(f\"Color at index {index} is {color}.\")\n",
    "\n",
    "# Level 6: Zip\n",
    "# Question: What will be the output of the code above?\n",
    "fruits = ['apple', 'banana', 'orange']\n",
    "quantities = [2, 3, 4]\n",
    "for fruit, quantity in zip(fruits, quantities):\n",
    "    print(f\"There are {quantity} {fruit}s.\")\n",
    "\n",
    "# Level 7: Advanced Patterns\n",
    "# Question: What numbers will be printed by the code above?\n",
    "for i in range(5):\n",
    "    if i == 2:\n",
    "        continue  # Skip iteration for i=2\n",
    "    if i == 4:\n",
    "        break  # Exit the loop for i=4\n",
    "    print(i)\n"
   ],
   "metadata": {
    "collapsed": false,
    "ExecuteTime": {
     "end_time": "2024-02-13T07:32:56.734604Z",
     "start_time": "2024-02-13T07:32:56.731563Z"
    }
   },
   "id": "b9e9be3031ecbbac",
   "execution_count": 2
  },
  {
   "cell_type": "code",
   "outputs": [],
   "source": [],
   "metadata": {
    "collapsed": false
   },
   "id": "90ae5579dd803f87"
  }
 ],
 "metadata": {
  "kernelspec": {
   "display_name": "Python 3",
   "language": "python",
   "name": "python3"
  },
  "language_info": {
   "codemirror_mode": {
    "name": "ipython",
    "version": 2
   },
   "file_extension": ".py",
   "mimetype": "text/x-python",
   "name": "python",
   "nbconvert_exporter": "python",
   "pygments_lexer": "ipython2",
   "version": "2.7.6"
  }
 },
 "nbformat": 4,
 "nbformat_minor": 5
}
